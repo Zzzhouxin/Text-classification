{
 "cells": [
  {
   "cell_type": "code",
   "execution_count": 1,
   "metadata": {
    "pycharm": {
     "name": "#%%\n"
    }
   },
   "outputs": [
    {
     "name": "stdout",
     "output_type": "stream",
     "text": [
      "                                             feature label\n",
      "0  HTTP/1.0 400 Bad Request Data: DATE Server: Bo...   boa\n",
      "1  HTTP/1.0 400 Bad Request Data: DATE Server: Bo...   boa\n",
      "2  400 Bad Request 400 Bad Request Your client ha...   boa\n",
      "3  HTTP/1.0 400 Bad Request Data: DATE Server: Bo...   boa\n",
      "4  HTTP/1.1 200 OK Server: Boa/0.94.13 Data: DATE...   boa\n",
      "5  400 Bad Request 400 Bad Request Your client ha...   boa\n",
      "6  400 Bad Request 400 Bad Request Your client ha...   boa\n",
      "7  HTTP/1.0 400 Bad Request Data: DATE Server: Bo...   boa\n",
      "8  400 Bad Request 400 Bad Request Your client ha...   boa\n",
      "9  <html> <head>   <script type=\"text/javascript\"...   boa\n"
     ]
    }
   ],
   "source": [
    "import pandas as pd\n",
    "data = pd.read_csv('./dscan_result/data/sim_hash_result.csv')\n",
    "print(data.head(10))\n"
   ]
  },
  {
   "cell_type": "code",
   "execution_count": 3,
   "metadata": {
    "pycharm": {
     "name": "#%%\n"
    }
   },
   "outputs": [
    {
     "ename": "NameError",
     "evalue": "name 'convert_to_one_hot' is not defined",
     "output_type": "error",
     "traceback": [
      "\u001b[0;31m---------------------------------------------------------------------------\u001b[0m",
      "\u001b[0;31mNameError\u001b[0m                                 Traceback (most recent call last)",
      "Cell \u001b[0;32mIn[3], line 11\u001b[0m\n\u001b[1;32m      9\u001b[0m \u001b[38;5;28;01mfor\u001b[39;00m item \u001b[38;5;129;01min\u001b[39;00m data[\u001b[38;5;124m'\u001b[39m\u001b[38;5;124mlabel\u001b[39m\u001b[38;5;124m'\u001b[39m]:\n\u001b[1;32m     10\u001b[0m     a\u001b[38;5;241m.\u001b[39mappend(item)\n\u001b[0;32m---> 11\u001b[0m labe_id \u001b[38;5;241m=\u001b[39m \u001b[43mconvert_to_one_hot\u001b[49m(a, )\n\u001b[1;32m     12\u001b[0m \u001b[38;5;66;03m# print(a)\u001b[39;00m\n\u001b[1;32m     14\u001b[0m \u001b[38;5;28;01mfor\u001b[39;00m i \u001b[38;5;129;01min\u001b[39;00m \u001b[38;5;28mset\u001b[39m(a):\n",
      "\u001b[0;31mNameError\u001b[0m: name 'convert_to_one_hot' is not defined"
     ]
    }
   ],
   "source": [
    "import pickle\n",
    "import re\n",
    "result_single = {}\n",
    "result_multi = {}\n",
    "\n",
    "a = []\n",
    "b = []\n",
    "\n",
    "for item in data['label']:\n",
    "    a.append(item)\n",
    "labe_id = convert_to_one_hot(a, )\n",
    "# print(a)\n",
    "\n",
    "for i in set(a):\n",
    "    print(i)\n",
    "    result_single[i] = a.count(i)\n",
    "\n",
    "label_list = sorted([_ for _ in result_single.items()], key=lambda x: x[1], reverse=True)\n",
    "print(label_list)\n",
    "\n",
    "f = open('./dscan_result/data/label.pkl', 'wb')\n",
    "pickle.dump(label_list, f)\n",
    "f.close()\n"
   ]
  },
  {
   "cell_type": "code",
   "execution_count": null,
   "metadata": {},
   "outputs": [],
   "source": []
  }
 ],
 "metadata": {
  "kernelspec": {
   "display_name": "Python 3 (ipykernel)",
   "language": "python",
   "name": "python3"
  },
  "language_info": {
   "codemirror_mode": {
    "name": "ipython",
    "version": 3
   },
   "file_extension": ".py",
   "mimetype": "text/x-python",
   "name": "python",
   "nbconvert_exporter": "python",
   "pygments_lexer": "ipython3",
   "version": "3.9.13"
  },
  "vscode": {
   "interpreter": {
    "hash": "46fbb5cb346e61f8d2f021b5ccda024e3c6e21cbceb0804f49798d59cf0ef0d8"
   }
  }
 },
 "nbformat": 4,
 "nbformat_minor": 2
}

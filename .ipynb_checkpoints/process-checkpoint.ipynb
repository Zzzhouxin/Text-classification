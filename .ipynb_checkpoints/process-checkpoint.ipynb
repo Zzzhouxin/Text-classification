{
 "cells": [
  {
   "cell_type": "code",
   "execution_count": 2,
   "metadata": {},
   "outputs": [
    {
     "name": "stdout",
     "output_type": "stream",
     "text": [
      "                                             feature label\n",
      "0  HTTP/1.0 400 Bad Request Data: DATE Server: Bo...   boa\n",
      "1  HTTP/1.0 400 Bad Request Data: DATE Server: Bo...   boa\n",
      "2  400 Bad Request 400 Bad Request Your client ha...   boa\n",
      "3  HTTP/1.0 400 Bad Request Data: DATE Server: Bo...   boa\n",
      "4  HTTP/1.1 200 OK Server: Boa/0.94.13 Data: DATE...   boa\n",
      "{'boa': 0, 'http server': 1, 'iis': 2, 'jetty': 3, 'lighttpd': 4, 'micro httpd': 5, 'nginx': 6, 'rompager': 7}\n"
     ]
    },
    {
     "data": {
      "text/plain": [
       "http server    6127\n",
       "nginx          4526\n",
       "iis            1131\n",
       "jetty           714\n",
       "lighttpd        456\n",
       "boa             287\n",
       "micro httpd     223\n",
       "rompager        118\n",
       "Name: label, dtype: int64"
      ]
     },
     "execution_count": 2,
     "metadata": {},
     "output_type": "execute_result"
    }
   ],
   "source": [
    "import pandas as pd\n",
    "data = pd.read_csv('./dscan_result/data/sim_hash_result.csv')\n",
    "print(data.head())\n",
    "\n",
    "dict ={}\n",
    "        \n",
    "for i in range(len(data['label'])):\n",
    "    if data['label'][i] not in dict:\n",
    "        dict[data['label'][i]] = len(dict)\n",
    "print(dict)\n",
    "\n",
    "data.label.value_counts()"
   ]
  },
  {
   "cell_type": "code",
   "execution_count": 146,
   "metadata": {},
   "outputs": [
    {
     "name": "stdout",
     "output_type": "stream",
     "text": [
      "                                             feature label\n",
      "0  HTTP/1.1 400 Bad Request Data: DATE Server: Ap...     0\n",
      "1  HTTP/1.1 400 Bad Request Content-Type: text/ht...     1\n",
      "2  HTTP/1.1 200 OK Data: DATE Server: Apache/2.4....     0\n",
      "3  HTTP/1.1 400 Bad Request Data: DATE Server: Ap...     0\n",
      "4  HTTP/1.1 400 Bad Request Data: DATE Server: Ap...     0\n",
      "5  404 Not Found 404 Not Found nginx/1.10.3 ( Ubu...     2\n",
      "6  HTTP/1.1 400 Bad Request Data: DATE Server: Ap...     0\n",
      "7  HTTP/1.1 400 Bad Request Data: DATE Server: Ap...     0\n",
      "8  404 Not Found 404 Not Found nginx/1.20.1 HTTP/...     2\n",
      "9  Authentication required HTTP/1.1 505 HTTP Vers...     2\n"
     ]
    }
   ],
   "source": [
    "\n",
    "for i in range(len(data['label'])):\n",
    "    data['label'][i] = dict[data['label'][i]]\n",
    "\n",
    "for i in range(len(data['feature'])):\n",
    "    data['feature'][i] = str(data['feature'][i]).lstrip().rstrip()\n",
    "print(data.head(10))"
   ]
  },
  {
   "cell_type": "code",
   "execution_count": 147,
   "metadata": {},
   "outputs": [],
   "source": [
    "# with open('./dscan_result/data/to_train.csv', 'w', encoding='utf-8') as f:\n",
    "#     for i in range(len(data['label'])):\n",
    "#         line = data['feature'][i] + ' , ' + str(data['label'][i])\n",
    "#         f.write(line)\n",
    "#         f.write('\\n')\n",
    "#     f.close()"
   ]
  },
  {
   "cell_type": "code",
   "execution_count": 148,
   "metadata": {},
   "outputs": [
    {
     "name": "stdout",
     "output_type": "stream",
     "text": [
      "                                                feature label\n",
      "0     HTTP/1.1 400 Bad Request Content-Type: text/ht...     1\n",
      "1     HTTP/1.1 505 HTTP Version Not Supported Server...     2\n",
      "2     HTTP/1.1 400 Bad Request Data: DATE Connection...     1\n",
      "3     has been registered was successfully registere...     2\n",
      "4     404 Not Found Not Found The requested URL / AB...     2\n",
      "...                                                 ...   ...\n",
      "2178  400 Bad Request 400 Bad Request nginx HTTP/1.1...     2\n",
      "2179  HTTP/1.1 400 Bad Request Server: nginx/1.22.1 ...     2\n",
      "2180  HTTP/1.1 400 Bad Request Data: DATE Server: Ap...     0\n",
      "2181  HTTP/1.1 400 Bad Request Server: nginx/1.23.2 ...     2\n",
      "2182  HTTP/1.1 302 Found Data: DATE Server: Apache/2...     0\n",
      "\n",
      "[2183 rows x 2 columns]\n"
     ]
    }
   ],
   "source": [
    "def simpleSampling(group, frac):\n",
    "    return group.sample(frac=frac)\n",
    "\n",
    "train_df = data.groupby(data.label).apply(simpleSampling, 0.5).sample(frac=1, ignore_index = True)\n",
    "print(train_df)"
   ]
  },
  {
   "cell_type": "code",
   "execution_count": 149,
   "metadata": {},
   "outputs": [
    {
     "name": "stdout",
     "output_type": "stream",
     "text": [
      "                                                feature label\n",
      "1     HTTP/1.1 400 Bad Request Content-Type: text/ht...     1\n",
      "4     HTTP/1.1 400 Bad Request Data: DATE Server: Ap...     0\n",
      "6     HTTP/1.1 400 Bad Request Data: DATE Server: Ap...     0\n",
      "8     404 Not Found 404 Not Found nginx/1.20.1 HTTP/...     2\n",
      "9     Authentication required HTTP/1.1 505 HTTP Vers...     2\n",
      "...                                                 ...   ...\n",
      "4356  HTTP/1.1 401 Unauthorized Connection: Keep-Ali...     4\n",
      "4357  HTTP/1.1 200 OK Content-Type: text/html Data: ...     4\n",
      "4358             HTTP/1.1 500 Error  HTTP/1.1 500 Error     4\n",
      "4359  HTTP/1.1 401 Unauthorized Connection: Keep-Ali...     4\n",
      "4363  HTTP/1.1 400 Bad Request Data: DATE Server: Ap...     4\n",
      "\n",
      "[2177 rows x 2 columns]\n"
     ]
    },
    {
     "name": "stderr",
     "output_type": "stream",
     "text": [
      "/var/folders/lw/fpq33cgj2cd5nkrb5n9wr98c0000gn/T/ipykernel_48069/4071953820.py:1: FutureWarning: The frame.append method is deprecated and will be removed from pandas in a future version. Use pandas.concat instead.\n",
      "  data = data.append(train_df.sample(frac=1, ignore_index=True)).drop_duplicates(keep = False)\n"
     ]
    }
   ],
   "source": [
    "data = data.append(train_df.sample(frac=1, ignore_index=True)).drop_duplicates(keep = False)\n",
    "print(data)"
   ]
  },
  {
   "cell_type": "code",
   "execution_count": 150,
   "metadata": {},
   "outputs": [
    {
     "name": "stderr",
     "output_type": "stream",
     "text": [
      "/var/folders/lw/fpq33cgj2cd5nkrb5n9wr98c0000gn/T/ipykernel_48069/1202939018.py:2: FutureWarning: The frame.append method is deprecated and will be removed from pandas in a future version. Use pandas.concat instead.\n",
      "  test_df = data.append(val_df).drop_duplicates(keep=False)\n"
     ]
    }
   ],
   "source": [
    "val_df = data.groupby(data.label).apply(simpleSampling, 0.5).sample(frac=1, ignore_index = True)\n",
    "test_df = data.append(val_df).drop_duplicates(keep=False)\n",
    "train_df.to_csv('./dscan_result/data/train_csv', header=None, index=None)\n",
    "val_df.to_csv('./dscan_result/data/val_csv', header=None, index=None)\n",
    "test_df.to_csv('./dscan_result/data/test_csv', header=None, index=None)"
   ]
  }
 ],
 "metadata": {
  "kernelspec": {
   "display_name": "Python 3 (ipykernel)",
   "language": "python",
   "name": "python3"
  },
  "language_info": {
   "codemirror_mode": {
    "name": "ipython",
    "version": 3
   },
   "file_extension": ".py",
   "mimetype": "text/x-python",
   "name": "python",
   "nbconvert_exporter": "python",
   "pygments_lexer": "ipython3",
   "version": "3.9.13"
  },
  "vscode": {
   "interpreter": {
    "hash": "46fbb5cb346e61f8d2f021b5ccda024e3c6e21cbceb0804f49798d59cf0ef0d8"
   }
  }
 },
 "nbformat": 4,
 "nbformat_minor": 2
}

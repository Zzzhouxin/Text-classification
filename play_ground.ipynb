{
 "cells": [
  {
   "cell_type": "code",
   "execution_count": 10,
   "metadata": {
    "ExecuteTime": {
     "start_time": "2023-04-24T18:27:42.450110Z",
     "end_time": "2023-04-24T18:27:42.454157Z"
    }
   },
   "outputs": [
    {
     "name": "stdout",
     "output_type": "stream",
     "text": [
      "                                             feature     label\n",
      "0  400 The plain HTTP request was sent to HTTPS p...     nginx\n",
      "1  HTTP/1.1 400 Bad Request Content-Type: text/ht...       iis\n",
      "2  HTTP/1.1 400 Bad Request Server: nginx/1.21.4 ...     nginx\n",
      "3  HTTP/1.1 400 Bad Request Server: nginx/1.23.1 ...     nginx\n",
      "4  401 Authorization Required 401 Authorization R...     nginx\n",
      "5  400 The plain HTTP request was sent to HTTPS p...     nginx\n",
      "6  HTTP/1.0 400 Bad Request Content-Type: text/ht...  lighttpd\n",
      "7  HTTP/1.1 400 Bad Request Content-Type: text/ht...     nginx\n",
      "8  400 The plain HTTP request was sent to HTTPS p...     nginx\n",
      "9  404 Not Found 404 Not Found nginx/1.20.2 HTTP/...     nginx\n"
     ]
    }
   ],
   "source": [
    "import pandas as pd\n",
    "data = pd.read_csv('./dscan_result/data/sim_hash_result.csv')\n",
    "print(data.head(10))\n"
   ]
  },
  {
   "cell_type": "code",
   "execution_count": 11,
   "metadata": {
    "ExecuteTime": {
     "start_time": "2023-04-24T18:27:36.540588Z",
     "end_time": "2023-04-24T18:27:42.457156Z"
    }
   },
   "outputs": [
    {
     "name": "stdout",
     "output_type": "stream",
     "text": [
      "[('http server', 14438), ('nginx', 12569), ('iis', 3582), ('jetty', 951), ('lighttpd', 630), ('tomcat', 331), ('tengine', 260), ('boa', 248), ('micro httpd', 232), ('rompager', 121)]\n"
     ]
    }
   ],
   "source": [
    "import pickle\n",
    "import re\n",
    "result_single = {}\n",
    "result_multi = {}\n",
    "\n",
    "a = []\n",
    "b = []\n",
    "\n",
    "for item in data['label']:\n",
    "    a.append(item)\n",
    "# labe_id = convert_to_one_hot(a, )\n",
    "# print(a)\n",
    "\n",
    "for i in set(a):\n",
    "    # print(i)\n",
    "    result_single[i] = a.count(i)\n",
    "\n",
    "label_list = sorted([_ for _ in result_single.items()], key=lambda x: x[1], reverse=True)\n",
    "print(label_list)\n",
    "\n",
    "with open('./dscan_result/data/class.txt', 'a+') as f:\n",
    "    for i in set(a):\n",
    "        f.write(i + '\\n')\n",
    "f.close()\n",
    "\n",
    "f = open('./dscan_result/data/label.pkl', 'wb')\n",
    "pickle.dump(label_list, f)\n",
    "f.close()\n"
   ]
  }
 ],
 "metadata": {
  "kernelspec": {
   "display_name": "Python 3 (ipykernel)",
   "language": "python",
   "name": "python3"
  },
  "language_info": {
   "codemirror_mode": {
    "name": "ipython",
    "version": 3
   },
   "file_extension": ".py",
   "mimetype": "text/x-python",
   "name": "python",
   "nbconvert_exporter": "python",
   "pygments_lexer": "ipython3",
   "version": "3.9.13"
  },
  "vscode": {
   "interpreter": {
    "hash": "46fbb5cb346e61f8d2f021b5ccda024e3c6e21cbceb0804f49798d59cf0ef0d8"
   }
  }
 },
 "nbformat": 4,
 "nbformat_minor": 2
}

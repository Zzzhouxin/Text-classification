{
 "cells": [
  {
   "cell_type": "code",
   "execution_count": 16,
   "metadata": {},
   "outputs": [
    {
     "name": "stdout",
     "output_type": "stream",
     "text": [
      "                                             feature       label\n",
      "0  HTTP/1.1 400 Bad Request Data: DATE Server: Ma...  no_version\n",
      "1  HTTP/1.1 400 Bad Request Data: DATE Server: Ma...  no_version\n",
      "2  HTTP/1.1 200 OK Data: DATE Server: Masked Last...  no_version\n",
      "3  HTTP/1.1 400 Bad Request Data: DATE Server: Ma...  no_version\n",
      "4  HTTP/1.1 400 Bad Request Data: DATE Server: Ma...  no_version\n",
      "{'no_version': 0, '2.4.29': 1, '2.2.22': 2, '2.4.53': 3, '2.4.25': 4, '2.4.6': 5, '2.4.52': 6, '2.4.38': 7, '2.4.7': 8, '2.2.15': 9, '2.2.9': 10, '2.0.40': 11, '2.4.41': 12, '2.4.43': 13, '2.4.54': 14, '2.4.10': 15, '2.4.35': 16, '2.2.16': 17, '2.4.18': 18, '2.2.14': 19, '2.4.51': 20, '2.2.27': 21, '1.3.39': 22, '2.4.46': 23, '2.2.11': 24, '2.4.23': 25, '2.0.63': 26, '2.4.17': 27, '2.4.34': 28, '2.2.8': 29, '2.2.31': 30, '2.2.21': 31, '2.0.54': 32, '2.2.34': 33, '2.2.3': 34, '2.0.53': 35, '2.4.33': 36, '2.4.37': 37, '2.2.4': 38, '2.2.25': 39, '2.4.39': 40, '2.4.48': 41, '2.2.17': 42, '2.0.47': 43, '2.4.9': 44, '2.0.48': 45, '2.2.29': 46, '2.2.26': 47, '2.0.59': 48, '2.4.1': 49, '2.4.4': 50, '2.4.55': 51, '2.2.6': 52, '2.0.61': 53, '2.4.16': 54, '2.0.52': 55, '1.3.23': 56, '2.4.27': 57, '2.2.24': 58, '2.4.26': 59, '2.4.47': 60, '0.6.5': 61, '2.4.28': 62, '2.2.20': 63, '2.0': 64, '2.4.12': 65, '1.3.34': 66, '1.3.37': 67, '2.4.20': 68, '2.2.2': 69, '2.2.0': 70, '2.2.23': 71, '2.4': 72, '2.0.50': 73, '2.0.64': 74, '2.4.3': 75, '1.3.41': 76, '2.4.49': 77, '2.2.12': 78, '2.0.46': 79, '1.3.29': 80, '2.2.19': 81, '1.3.42': 82, '2.0.55': 83, '2.4.2': 84, '1.3.26': 85, '1.3.27': 86, '1.2.6': 87, '1.3.14': 88, '2.2': 89, '1.3.12': 90, '2.0.51': 91, '2.2.10': 92, '2.x.x': 93, '2.2.32': 94, '8.5.5': 95, '6.6.6': 96, '1.1.3': 97, '2.0.65': 98, '2.2.35': 99, '2': 100, '1.2.6k': 101, '2.0.58': 102, '1.3.24': 103, '1.0/sinksoft': 104, '3.7': 105, '1.3.28': 106, '2.2.13': 107, '3.9': 108, '1.3.42p2': 109, '1.3.33': 110, '1.3.20': 111, '4.0': 112, '1.3.0': 113, '0.10': 114, '2.0.49': 115, '1.3b42cb': 116, '2.0.45': 117, '2.4.50': 118, '2.4.32': 119, '1.3.31': 120, '2.2.14(win32': 121, '1.3.6': 122, '2.2.26-31': 123, '2.0.59easytecc/2.0': 124, '1.2.5': 125}\n"
     ]
    },
    {
     "data": {
      "text/plain": [
       "no_version      5409\n",
       "2.4.6           1221\n",
       "2.2.15           819\n",
       "2.4.54           762\n",
       "2.4.41           644\n",
       "                ... \n",
       "2.x.x              1\n",
       "6.6.6              1\n",
       "1.0/sinksoft       1\n",
       "1.3.24             1\n",
       "1.3.0              1\n",
       "Name: label, Length: 126, dtype: int64"
      ]
     },
     "execution_count": 16,
     "metadata": {},
     "output_type": "execute_result"
    }
   ],
   "source": [
    "import pandas as pd\n",
    "data = pd.read_csv('./dscan_result/data/sim_hash_result.csv')\n",
    "print(data.head())\n",
    "\n",
    "dict ={}\n",
    "        \n",
    "for i in range(len(data['label'])):\n",
    "    if data['label'][i] not in dict:\n",
    "        dict[data['label'][i]] = len(dict)\n",
    "print(dict)\n",
    "\n",
    "data.label.value_counts()"
   ]
  },
  {
   "cell_type": "code",
   "execution_count": 17,
   "metadata": {},
   "outputs": [
    {
     "name": "stdout",
     "output_type": "stream",
     "text": [
      "                                             feature label\n",
      "0  HTTP/1.1 400 Bad Request Data: DATE Server: Ma...     0\n",
      "1  HTTP/1.1 400 Bad Request Data: DATE Server: Ma...     0\n",
      "2  HTTP/1.1 200 OK Data: DATE Server: Masked Last...     0\n",
      "3  HTTP/1.1 400 Bad Request Data: DATE Server: Ma...     0\n",
      "4  HTTP/1.1 400 Bad Request Data: DATE Server: Ma...     0\n",
      "5  HTTP/1.1 400 Bad Request Data: DATE Server: Ma...     1\n",
      "6  HTTP/1.1 403 Forbidden Data: DATE Server: Mask...     0\n",
      "7  HTTP/1.1 400 Bad Request Data: DATE Server: Ma...     0\n",
      "8  HTTP/1.1 403 Forbidden Data: DATE Server: Mask...     2\n",
      "9  HTTP/1.1 200 OK Data: DATE Server: Masked Last...     0\n"
     ]
    }
   ],
   "source": [
    "\n",
    "for i in range(len(data['label'])):\n",
    "    data['label'][i] = dict[data['label'][i]]\n",
    "\n",
    "for i in range(len(data['feature'])):\n",
    "    data['feature'][i] = str(data['feature'][i]).lstrip().rstrip()\n",
    "print(data.head(10))"
   ]
  },
  {
   "cell_type": "code",
   "execution_count": 18,
   "metadata": {},
   "outputs": [],
   "source": [
    "# with open('./dscan_result/data/to_train.csv', 'w', encoding='utf-8') as f:\n",
    "#     for i in range(len(data['label'])):\n",
    "#         line = data['feature'][i] + ' , ' + str(data['label'][i])\n",
    "#         f.write(line)\n",
    "#         f.write('\\n')\n",
    "#     f.close()"
   ]
  },
  {
   "cell_type": "code",
   "execution_count": 19,
   "metadata": {},
   "outputs": [
    {
     "name": "stdout",
     "output_type": "stream",
     "text": [
      "                                                feature label\n",
      "0     HTTP/1.1 400 Bad request Content-length: 90 Ca...     9\n",
      "1     HTTP/1.1 400 Bad Request Data: DATE Server: Ma...    12\n",
      "2     HTTP/1.0 400 Bad request Cache-Control: no-cac...     5\n",
      "3     HTTP/1.1 200 OK Data: DATE Server: Masked Last...     9\n",
      "4     HTTP/1.1 400 Bad Request Data: DATE Server: Ma...     0\n",
      "...                                                 ...   ...\n",
      "7800  HTTP/1.1 400 Bad Request Data: DATE Server: Ma...     0\n",
      "7801  HTTP/1.1 400 Bad Request Data: DATE Server: Ma...     3\n",
      "7802  HTTP/1.0 302 Found Location: http://147.47.71....     9\n",
      "7803  HTTP/1.1 400 BAD_REQUEST Content-Length: CONTE...     0\n",
      "7804  HTTP/1.1 400 Bad Request Data: DATE Server: Ma...    15\n",
      "\n",
      "[7805 rows x 2 columns]\n"
     ]
    }
   ],
   "source": [
    "def simpleSampling(group, frac):\n",
    "    return group.sample(frac=frac)\n",
    "\n",
    "train_df = data.groupby(data.label).apply(simpleSampling, 0.5).sample(frac=1, ignore_index = True)\n",
    "print(train_df)"
   ]
  },
  {
   "cell_type": "code",
   "execution_count": 20,
   "metadata": {},
   "outputs": [
    {
     "name": "stderr",
     "output_type": "stream",
     "text": [
      "/var/folders/lw/fpq33cgj2cd5nkrb5n9wr98c0000gn/T/ipykernel_65841/4071953820.py:1: FutureWarning: The frame.append method is deprecated and will be removed from pandas in a future version. Use pandas.concat instead.\n",
      "  data = data.append(train_df.sample(frac=1, ignore_index=True)).drop_duplicates(keep = False)\n"
     ]
    },
    {
     "name": "stdout",
     "output_type": "stream",
     "text": [
      "                                                 feature label\n",
      "2      HTTP/1.1 200 OK Data: DATE Server: Masked Last...     0\n",
      "4      HTTP/1.1 400 Bad Request Data: DATE Server: Ma...     0\n",
      "5      HTTP/1.1 400 Bad Request Data: DATE Server: Ma...     1\n",
      "6      HTTP/1.1 403 Forbidden Data: DATE Server: Mask...     0\n",
      "9      HTTP/1.1 200 OK Data: DATE Server: Masked Last...     0\n",
      "...                                                  ...   ...\n",
      "15630  HTTP/1.1 400 Bad Request Data: DATE Server: Ma...     5\n",
      "15632  HTTP/1.1 400 Bad Request Data: DATE Server: Ma...     2\n",
      "15633  HTTP/1.1 400 Bad Request Data: DATE Server: Ma...     5\n",
      "15634  HTTP/1.1 400 Bad Request Data: DATE Server: Ma...     5\n",
      "15636  HTTP/1.1 400 Bad Request Server: Masked Connec...     1\n",
      "\n",
      "[7832 rows x 2 columns]\n"
     ]
    }
   ],
   "source": [
    "data = data.append(train_df.sample(frac=1, ignore_index=True)).drop_duplicates(keep = False)\n",
    "print(data)"
   ]
  },
  {
   "cell_type": "code",
   "execution_count": 21,
   "metadata": {},
   "outputs": [
    {
     "name": "stderr",
     "output_type": "stream",
     "text": [
      "/var/folders/lw/fpq33cgj2cd5nkrb5n9wr98c0000gn/T/ipykernel_65841/3888539453.py:2: FutureWarning: The frame.append method is deprecated and will be removed from pandas in a future version. Use pandas.concat instead.\n",
      "  test_df = data.append(val_df).drop_duplicates(keep=False)\n"
     ]
    }
   ],
   "source": [
    "val_df = data.groupby(data.label).apply(simpleSampling, 0.5).sample(frac=1, ignore_index = True)\n",
    "test_df = data.append(val_df).drop_duplicates(keep=False)\n",
    "train_df.to_csv('./dscan_result/data/train.csv', header=None, index=None)\n",
    "val_df.to_csv('./dscan_result/data/val.csv', header=None, index=None)\n",
    "test_df.to_csv('./dscan_result/data/test.csv', header=None, index=None)"
   ]
  },
  {
   "cell_type": "code",
   "execution_count": null,
   "metadata": {},
   "outputs": [],
   "source": []
  }
 ],
 "metadata": {
  "kernelspec": {
   "display_name": "Python 3 (ipykernel)",
   "language": "python",
   "name": "python3"
  },
  "language_info": {
   "codemirror_mode": {
    "name": "ipython",
    "version": 3
   },
   "file_extension": ".py",
   "mimetype": "text/x-python",
   "name": "python",
   "nbconvert_exporter": "python",
   "pygments_lexer": "ipython3",
   "version": "3.9.13"
  },
  "vscode": {
   "interpreter": {
    "hash": "46fbb5cb346e61f8d2f021b5ccda024e3c6e21cbceb0804f49798d59cf0ef0d8"
   }
  }
 },
 "nbformat": 4,
 "nbformat_minor": 2
}

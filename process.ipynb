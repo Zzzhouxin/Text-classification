{
 "cells": [
  {
   "cell_type": "code",
   "execution_count": 15,
   "metadata": {
    "ExecuteTime": {
     "start_time": "2023-04-24T17:31:14.671592Z",
     "end_time": "2023-04-24T17:31:14.673381Z"
    }
   },
   "outputs": [
    {
     "name": "stdout",
     "output_type": "stream",
     "text": [
      "                                             feature  label\n",
      "0  400 The plain HTTP request was sent to HTTPS p...  nginx\n",
      "1  HTTP/1.1 400 Bad Request Content-Type: text/ht...    iis\n",
      "2  HTTP/1.1 400 Bad Request Server: nginx/1.21.4 ...  nginx\n",
      "3  HTTP/1.1 400 Bad Request Server: nginx/1.23.1 ...  nginx\n",
      "4  401 Authorization Required 401 Authorization R...  nginx\n",
      "{'nginx': 0, 'iis': 1, 'lighttpd': 2, 'boa': 3, 'tomcat': 4, 'rompager': 5, 'http server': 6, 'micro httpd': 7, 'jetty': 8, 'tengine': 9}\n"
     ]
    },
    {
     "data": {
      "text/plain": "label\nhttp server    14438\nnginx          12569\niis             3582\njetty            951\nlighttpd         630\ntomcat           331\ntengine          260\nboa              248\nmicro httpd      232\nrompager         121\nName: count, dtype: int64"
     },
     "execution_count": 15,
     "metadata": {},
     "output_type": "execute_result"
    }
   ],
   "source": [
    "import pandas as pd\n",
    "data = pd.read_csv('./dscan_result/data/sim_hash_result.csv')\n",
    "print(data.head())\n",
    "\n",
    "dict ={}\n",
    "        \n",
    "for i in range(len(data['label'])):\n",
    "    if data['label'][i] not in dict:\n",
    "        dict[data['label'][i]] = len(dict)\n",
    "print(dict)\n",
    "\n",
    "data.label.value_counts()"
   ]
  },
  {
   "cell_type": "code",
   "execution_count": 16,
   "metadata": {
    "ExecuteTime": {
     "start_time": "2023-04-24T17:31:14.674983Z",
     "end_time": "2023-04-24T17:31:27.443566Z"
    }
   },
   "outputs": [
    {
     "name": "stdout",
     "output_type": "stream",
     "text": [
      "                                             feature label\n",
      "0  400 The plain HTTP request was sent to HTTPS p...     0\n",
      "1  HTTP/1.1 400 Bad Request Content-Type: text/ht...     1\n",
      "2  HTTP/1.1 400 Bad Request Server: nginx/1.21.4 ...     0\n",
      "3  HTTP/1.1 400 Bad Request Server: nginx/1.23.1 ...     0\n",
      "4  401 Authorization Required 401 Authorization R...     0\n",
      "5  400 The plain HTTP request was sent to HTTPS p...     0\n",
      "6  HTTP/1.0 400 Bad Request Content-Type: text/ht...     2\n",
      "7  HTTP/1.1 400 Bad Request Content-Type: text/ht...     0\n",
      "8  400 The plain HTTP request was sent to HTTPS p...     0\n",
      "9  404 Not Found 404 Not Found nginx/1.20.2 HTTP/...     0\n"
     ]
    }
   ],
   "source": [
    "\n",
    "for i in range(len(data['label'])):\n",
    "    data['label'][i] = dict[data['label'][i]]\n",
    "\n",
    "for i in range(len(data['feature'])):\n",
    "    data['feature'][i] = str(data['feature'][i]).lstrip().rstrip()\n",
    "print(data.head(10))"
   ]
  },
  {
   "cell_type": "code",
   "execution_count": 17,
   "metadata": {
    "ExecuteTime": {
     "start_time": "2023-04-24T17:31:27.442268Z",
     "end_time": "2023-04-24T17:31:27.444567Z"
    }
   },
   "outputs": [],
   "source": [
    "# with open('./dscan_result/data/to_train.csv', 'w', encoding='utf-8') as f:\n",
    "#     for i in range(len(data['label'])):\n",
    "#         line = data['feature'][i] + ' , ' + str(data['label'][i])\n",
    "#         f.write(line)\n",
    "#         f.write('\\n')\n",
    "#     f.close()"
   ]
  },
  {
   "cell_type": "code",
   "execution_count": 18,
   "metadata": {
    "ExecuteTime": {
     "start_time": "2023-04-24T17:31:11.847353Z",
     "end_time": "2023-04-24T17:31:27.444567Z"
    }
   },
   "outputs": [
    {
     "name": "stdout",
     "output_type": "stream",
     "text": [
      "                                                 feature label\n",
      "0      HTTP/1.1 400 Bad Request Content-Type: text/ht...     1\n",
      "1      Freeskreen - File not found File not found . H...     6\n",
      "2      HTTP/1.0 400 Bad Request Content-Type: text/ht...     6\n",
      "3      <!DOCTYPE html><html><head>   <base href=\"/\"> ...     0\n",
      "4      404 Not Found Not Found The requested URL was ...     0\n",
      "...                                                  ...   ...\n",
      "16676  HTTP/1.1 200 OK Data: DATE Server: Apache/2.0....     6\n",
      "16677  CloudfloorDNS - Managed DNS   Failover   GEO D...     0\n",
      "16678  HTTP/1.1 200 OK Data: DATE Server: Apache/1.3....     6\n",
      "16679  HTTP/1.1 400 Bad Request Content-Type: text/ht...     1\n",
      "16680  HTTP/1.1 200 OK Data: DATE Server: Apache/2.0....     6\n",
      "\n",
      "[16681 rows x 2 columns]\n"
     ]
    }
   ],
   "source": [
    "def simpleSampling(group, frac):\n",
    "    return group.sample(frac=frac)\n",
    "\n",
    "train_df = data.groupby(data.label).apply(simpleSampling, 0.5).sample(frac=1, ignore_index = True)\n",
    "print(train_df)"
   ]
  },
  {
   "cell_type": "code",
   "execution_count": 19,
   "metadata": {
    "ExecuteTime": {
     "start_time": "2023-04-24T17:31:11.847353Z",
     "end_time": "2023-04-24T17:31:27.446566Z"
    }
   },
   "outputs": [
    {
     "name": "stdout",
     "output_type": "stream",
     "text": [
      "                                                 feature label\n",
      "0      400 The plain HTTP request was sent to HTTPS p...     0\n",
      "1      HTTP/1.1 400 Bad Request Content-Type: text/ht...     1\n",
      "3      HTTP/1.1 400 Bad Request Server: nginx/1.23.1 ...     0\n",
      "6      HTTP/1.0 400 Bad Request Content-Type: text/ht...     2\n",
      "9      404 Not Found 404 Not Found nginx/1.20.2 HTTP/...     0\n",
      "...                                                  ...   ...\n",
      "33352  HTTP/1.1 400 Bad Request Content-Type: text/ht...     1\n",
      "33354  HTTP/1.1 400 Bad Request Data: DATE Server: Mi...     1\n",
      "33357  HTTP/1.1 400 Bad Request Content-Type: text/ht...     1\n",
      "33358  403 - Forbidden : Access is denied . Server Er...     1\n",
      "33359  HTTP/1.1 400 Bad Request Content-Type: text/ht...     1\n",
      "\n",
      "[16640 rows x 2 columns]\n"
     ]
    }
   ],
   "source": [
    "data = pd.concat([data, train_df.sample(frac=1, ignore_index=True)]).drop_duplicates(keep=False)\n",
    "# data = data.append(train_df.sample(frac=1, ignore_index=True)).drop_duplicates(keep = False)\n",
    "print(data)"
   ]
  },
  {
   "cell_type": "code",
   "execution_count": 20,
   "metadata": {
    "ExecuteTime": {
     "start_time": "2023-04-24T17:31:11.847353Z",
     "end_time": "2023-04-24T17:31:27.446566Z"
    }
   },
   "outputs": [],
   "source": [
    "val_df = data.groupby(data.label).apply(simpleSampling, 0.5).sample(frac=1, ignore_index = True)\n",
    "# test_df = data.append(val_df).drop_duplicates(keep=False)\n",
    "test_df = pd.concat([data, val_df]).drop_duplicates(keep=False)\n",
    "train_df.to_csv('./dscan_result/data/train.csv', header=None, index=None)\n",
    "val_df.to_csv('./dscan_result/data/val.csv', header=None, index=None)\n",
    "test_df.to_csv('./dscan_result/data/test.csv', header=None, index=None)"
   ]
  }
 ],
 "metadata": {
  "kernelspec": {
   "display_name": "Python 3 (ipykernel)",
   "language": "python",
   "name": "python3"
  },
  "language_info": {
   "codemirror_mode": {
    "name": "ipython",
    "version": 3
   },
   "file_extension": ".py",
   "mimetype": "text/x-python",
   "name": "python",
   "nbconvert_exporter": "python",
   "pygments_lexer": "ipython3",
   "version": "3.9.13"
  },
  "vscode": {
   "interpreter": {
    "hash": "46fbb5cb346e61f8d2f021b5ccda024e3c6e21cbceb0804f49798d59cf0ef0d8"
   }
  }
 },
 "nbformat": 4,
 "nbformat_minor": 2
}

{
 "cells": [
  {
   "cell_type": "code",
   "execution_count": 40,
   "metadata": {
    "ExecuteTime": {
     "start_time": "2023-04-24T19:34:44.668345Z",
     "end_time": "2023-04-24T19:34:44.670940Z"
    }
   },
   "outputs": [
    {
     "name": "stdout",
     "output_type": "stream",
     "text": [
      "                                             feature  label\n",
      "0  400 The plain HTTP request was sent to HTTPS p...  nginx\n",
      "1  HTTP/1.1 400 Bad Request Content-Type: text/ht...    iis\n",
      "2  HTTP/1.1 400 Bad Request Server: nginx/1.21.4 ...  nginx\n",
      "3  HTTP/1.1 400 Bad Request Server: nginx/1.23.1 ...  nginx\n",
      "4  401 Authorization Required 401 Authorization R...  nginx\n",
      "{'nginx': 0, 'iis': 1, 'lighttpd': 2, 'boa': 3, 'tomcat': 4, 'rompager': 5, 'http server': 6, 'micro httpd': 7, 'jetty': 8, 'tengine': 9}\n"
     ]
    },
    {
     "data": {
      "text/plain": "label\nhttp server    14438\nnginx          12569\niis             3582\njetty            951\nlighttpd         630\ntomcat           331\ntengine          260\nboa              248\nmicro httpd      232\nrompager         121\nName: count, dtype: int64"
     },
     "execution_count": 40,
     "metadata": {},
     "output_type": "execute_result"
    }
   ],
   "source": [
    "import pandas as pd\n",
    "data = pd.read_csv('./dscan_result/data/sim_hash_result.csv')\n",
    "print(data.head())\n",
    "\n",
    "dict ={}\n",
    "        \n",
    "for i in range(len(data['label'])):\n",
    "    if data['label'][i] not in dict:\n",
    "        dict[data['label'][i]] = len(dict)\n",
    "print(dict)\n",
    "\n",
    "data.label.value_counts()"
   ]
  },
  {
   "cell_type": "code",
   "execution_count": 41,
   "outputs": [],
   "source": [
    "# 生成class配置文件\n",
    "with open('./dscan_result/data/class.txt', 'a+') as f:\n",
    "    for i in dict.keys():\n",
    "        f.write(i + '\\n')\n",
    "f.close()"
   ],
   "metadata": {
    "collapsed": false,
    "ExecuteTime": {
     "start_time": "2023-04-24T19:34:44.670940Z",
     "end_time": "2023-04-24T19:34:44.671272Z"
    }
   }
  },
  {
   "cell_type": "code",
   "execution_count": 42,
   "outputs": [
    {
     "name": "stdout",
     "output_type": "stream",
     "text": [
      "[('http server', 14438), ('nginx', 12569), ('iis', 3582), ('jetty', 951), ('lighttpd', 630), ('tomcat', 331), ('tengine', 260), ('boa', 248), ('micro httpd', 232), ('rompager', 121)]\n"
     ]
    }
   ],
   "source": [
    "# 生成label配置文件\n",
    "import pickle\n",
    "\n",
    "result_single = {}\n",
    "result_multi = {}\n",
    "\n",
    "a = []\n",
    "b = []\n",
    "\n",
    "for item in data['label']:\n",
    "    a.append(item)\n",
    "\n",
    "for i in set(a):\n",
    "    result_single[i] = a.count(i)\n",
    "\n",
    "label_list = sorted([_ for _ in result_single.items()], key=lambda x: x[1], reverse=True)\n",
    "print(label_list)\n",
    "\n",
    "f = open('./dscan_result/data/label.pkl', 'wb')\n",
    "pickle.dump(label_list, f)\n",
    "f.close()\n"
   ],
   "metadata": {
    "collapsed": false,
    "ExecuteTime": {
     "start_time": "2023-04-24T19:34:42.132642Z",
     "end_time": "2023-04-24T19:34:44.671272Z"
    }
   }
  },
  {
   "cell_type": "code",
   "execution_count": 43,
   "metadata": {
    "ExecuteTime": {
     "start_time": "2023-04-24T19:34:44.673301Z",
     "end_time": "2023-04-24T19:34:57.437402Z"
    }
   },
   "outputs": [
    {
     "name": "stdout",
     "output_type": "stream",
     "text": [
      "                                             feature label\n",
      "0  400 The plain HTTP request was sent to HTTPS p...     0\n",
      "1  HTTP/1.1 400 Bad Request Content-Type: text/ht...     1\n",
      "2  HTTP/1.1 400 Bad Request Server: nginx/1.21.4 ...     0\n",
      "3  HTTP/1.1 400 Bad Request Server: nginx/1.23.1 ...     0\n",
      "4  401 Authorization Required 401 Authorization R...     0\n",
      "5  400 The plain HTTP request was sent to HTTPS p...     0\n",
      "6  HTTP/1.0 400 Bad Request Content-Type: text/ht...     2\n",
      "7  HTTP/1.1 400 Bad Request Content-Type: text/ht...     0\n",
      "8  400 The plain HTTP request was sent to HTTPS p...     0\n",
      "9  404 Not Found 404 Not Found nginx/1.20.2 HTTP/...     0\n"
     ]
    }
   ],
   "source": [
    "\n",
    "for i in range(len(data['label'])):\n",
    "    data['label'][i] = dict[data['label'][i]]\n",
    "\n",
    "for i in range(len(data['feature'])):\n",
    "    data['feature'][i] = str(data['feature'][i]).lstrip().rstrip()\n",
    "print(data.head(10))"
   ]
  },
  {
   "cell_type": "code",
   "execution_count": 44,
   "metadata": {
    "ExecuteTime": {
     "start_time": "2023-04-24T19:34:57.436392Z",
     "end_time": "2023-04-24T19:34:57.437402Z"
    }
   },
   "outputs": [
    {
     "name": "stdout",
     "output_type": "stream",
     "text": [
      "                                                 feature label\n",
      "0      404 page not found HTTP/1.1 505 HTTP Version N...     0\n",
      "1      HTTP/1.1 400 Bad Request Content-Type: text/ht...     1\n",
      "2      { `` error '' : { `` statusCode '' :404   '' n...     0\n",
      "3      HTTP/1.1 400 Bad Request Data: DATE Server: Ap...     6\n",
      "4      HTTP/1.1 505 Unknown Version Content-Type: tex...     8\n",
      "...                                                  ...   ...\n",
      "16676  { `` detail '' : `` not found . '' } HTTP/1.1 ...     0\n",
      "16677  HTTP/1.1 503 Service Unavailable Content-Type:...     6\n",
      "16678  HTTP/1.0 200 OK Data: DATE Server: Apache/2.4....     6\n",
      "16679  HTTP/1.1 400 Bad Request Data: DATE Server: Ap...     6\n",
      "16680  HTTP/1.1 400 BAD_REQUEST Content-Length: CONTE...     6\n",
      "\n",
      "[16681 rows x 2 columns]\n"
     ]
    },
    {
     "data": {
      "text/plain": "label\n6    7219\n0    6284\n1    1791\n8     476\n2     315\n4     166\n9     130\n3     124\n7     116\n5      60\nName: count, dtype: int64"
     },
     "execution_count": 44,
     "metadata": {},
     "output_type": "execute_result"
    }
   ],
   "source": [
    "def simpleSampling(group, frac):\n",
    "    return group.sample(frac=frac)\n",
    "\n",
    "train_df = data.groupby(data.label).apply(simpleSampling, 0.5).sample(frac=1, ignore_index = True)\n",
    "print(train_df)\n",
    "train_df.label.value_counts()"
   ]
  },
  {
   "cell_type": "code",
   "execution_count": 45,
   "metadata": {
    "ExecuteTime": {
     "start_time": "2023-04-24T19:34:57.439401Z",
     "end_time": "2023-04-24T19:34:57.441402Z"
    }
   },
   "outputs": [
    {
     "name": "stdout",
     "output_type": "stream",
     "text": [
      "                                                 feature label\n",
      "0      400 The plain HTTP request was sent to HTTPS p...     0\n",
      "1      HTTP/1.1 400 Bad Request Content-Type: text/ht...     1\n",
      "3      HTTP/1.1 400 Bad Request Server: nginx/1.23.1 ...     0\n",
      "4      401 Authorization Required 401 Authorization R...     0\n",
      "6      HTTP/1.0 400 Bad Request Content-Type: text/ht...     2\n",
      "...                                                  ...   ...\n",
      "33356  HTTP/1.0 400 Bad Request Data: DATE Server: Bo...     3\n",
      "33357  HTTP/1.1 400 Bad Request Content-Type: text/ht...     1\n",
      "33358  403 - Forbidden : Access is denied . Server Er...     1\n",
      "33360  HTTP/1.0 400 Bad Request Content-Type: text/ht...     2\n",
      "33361  HTTP/1.0 400 Bad Request Content-Type: text/ht...     2\n",
      "\n",
      "[16644 rows x 2 columns]\n"
     ]
    }
   ],
   "source": [
    "data = pd.concat([data, train_df.sample(frac=1, ignore_index=True)]).drop_duplicates(keep=False)\n",
    "# data = data.append(train_df.sample(frac=1, ignore_index=True)).drop_duplicates(keep = False)\n",
    "print(data)"
   ]
  },
  {
   "cell_type": "code",
   "execution_count": 46,
   "metadata": {
    "ExecuteTime": {
     "start_time": "2023-04-24T19:34:57.440402Z",
     "end_time": "2023-04-24T19:34:59.673130Z"
    }
   },
   "outputs": [
    {
     "name": "stdout",
     "output_type": "stream",
     "text": [
      "label\n",
      "6    3610\n",
      "0    3126\n",
      "1     895\n",
      "8     238\n",
      "2     156\n",
      "4      82\n",
      "9      65\n",
      "3      62\n",
      "7      58\n",
      "5      30\n",
      "Name: count, dtype: int64\n",
      "label\n",
      "6    3609\n",
      "0    3126\n",
      "1     895\n",
      "8     237\n",
      "2     156\n",
      "4      83\n",
      "9      65\n",
      "3      62\n",
      "7      58\n",
      "5      31\n",
      "Name: count, dtype: int64\n"
     ]
    }
   ],
   "source": [
    "val_df = data.groupby(data.label).apply(simpleSampling, 0.5).sample(frac=1, ignore_index = True)\n",
    "print(val_df.label.value_counts())\n",
    "\n",
    "# test_df = data.append(val_df).drop_duplicates(keep=False)\n",
    "test_df = pd.concat([data, val_df]).drop_duplicates(keep=False)\n",
    "\n",
    "print(test_df.label.value_counts())\n",
    "train_df.to_csv('./dscan_result/data/train.txt', header=None, index=None)\n",
    "val_df.to_csv('./dscan_result/data/dev.txt', header=None, index=None)\n",
    "test_df.to_csv('./dscan_result/data/test.txt', header=None, index=None)"
   ]
  }
 ],
 "metadata": {
  "kernelspec": {
   "display_name": "Python 3 (ipykernel)",
   "language": "python",
   "name": "python3"
  },
  "language_info": {
   "codemirror_mode": {
    "name": "ipython",
    "version": 3
   },
   "file_extension": ".py",
   "mimetype": "text/x-python",
   "name": "python",
   "nbconvert_exporter": "python",
   "pygments_lexer": "ipython3",
   "version": "3.9.13"
  },
  "vscode": {
   "interpreter": {
    "hash": "46fbb5cb346e61f8d2f021b5ccda024e3c6e21cbceb0804f49798d59cf0ef0d8"
   }
  }
 },
 "nbformat": 4,
 "nbformat_minor": 2
}
